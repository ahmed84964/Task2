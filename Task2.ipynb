{
 "cells": [
  {
   "cell_type": "code",
   "execution_count": 13,
   "id": "379cffa4-244e-4158-b4c5-5cad5bd3aafe",
   "metadata": {},
   "outputs": [
    {
     "name": "stdin",
     "output_type": "stream",
     "text": [
      "Please enter the temperature :  5\n"
     ]
    },
    {
     "name": "stdout",
     "output_type": "stream",
     "text": [
      "It's a cold day. Stay warm!\n"
     ]
    }
   ],
   "source": [
    "Temp= int (input(\"Please enter the temperature : \"))\n",
    "if Temp >= 30 :\n",
    "    print (\"It's a hot day. Stay hydrated!\")\n",
    "elif (Temp > 20) and (Temp < 29):\n",
    "    print (\"It's a warm day. Enjoy the weather!\")\n",
    "elif (Temp > 10) and (Temp < 19):\n",
    "    print (\"It's a cool day. Wear a jacket!\") \n",
    "elif Temp < 10 :\n",
    "    print (\"It's a cold day. Stay warm!\")"
   ]
  },
  {
   "cell_type": "code",
   "execution_count": 21,
   "id": "9da4df94-4d59-47eb-959a-426849a86055",
   "metadata": {},
   "outputs": [
    {
     "name": "stdout",
     "output_type": "stream",
     "text": [
      "3\n",
      "6\n",
      "9\n",
      "12\n",
      "15\n",
      "18\n"
     ]
    }
   ],
   "source": [
    "List = list(range(1, 21))\n",
    "for i in List :\n",
    "    if i % 3 == 0 :\n",
    "        print (i)"
   ]
  },
  {
   "cell_type": "code",
   "execution_count": null,
   "id": "357f747d-65d2-41c6-aa7c-cda97d1f47ce",
   "metadata": {},
   "outputs": [],
   "source": []
  }
 ],
 "metadata": {
  "kernelspec": {
   "display_name": "Python [conda env:base] *",
   "language": "python",
   "name": "conda-base-py"
  },
  "language_info": {
   "codemirror_mode": {
    "name": "ipython",
    "version": 3
   },
   "file_extension": ".py",
   "mimetype": "text/x-python",
   "name": "python",
   "nbconvert_exporter": "python",
   "pygments_lexer": "ipython3",
   "version": "3.12.7"
  }
 },
 "nbformat": 4,
 "nbformat_minor": 5
}
